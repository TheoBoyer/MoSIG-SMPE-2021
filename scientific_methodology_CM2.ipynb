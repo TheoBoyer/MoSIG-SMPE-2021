{
  "nbformat": 4,
  "nbformat_minor": 0,
  "metadata": {
    "colab": {
      "name": "scientific methodology CM2.ipynb",
      "provenance": [],
      "collapsed_sections": [],
      "authorship_tag": "ABX9TyO2DwHtCp7smWYfRbDmQTOV",
      "include_colab_link": true
    },
    "kernelspec": {
      "name": "python3",
      "display_name": "Python 3"
    },
    "language_info": {
      "name": "python"
    }
  },
  "cells": [
    {
      "cell_type": "markdown",
      "metadata": {
        "id": "view-in-github",
        "colab_type": "text"
      },
      "source": [
        "<a href=\"https://colab.research.google.com/github/TheoBoyer/MoSIG-SMPE-2021/blob/main/scientific_methodology_CM2.ipynb\" target=\"_parent\"><img src=\"https://colab.research.google.com/assets/colab-badge.svg\" alt=\"Open In Colab\"/></a>"
      ]
    },
    {
      "cell_type": "code",
      "metadata": {
        "id": "st91Z_xPLQ_n"
      },
      "source": [
        "import numpy as np\n",
        "import matplotlib.pyplot as plt"
      ],
      "execution_count": 1,
      "outputs": []
    },
    {
      "cell_type": "code",
      "metadata": {
        "id": "hEyQxR7p7iwN"
      },
      "source": [
        "g1_petite = \"1.36 0.24 0.22 0.11 1.25 0.24 0.35 0.24 1.60 0.63 0.68 0.00 1.44 1.86 3.47 0.58 0.00 0.82 2.75 3.14 1.58 2.83 1.92 0.83 2.47 1.13 1.72 0.61 0.35 1.11 1.24 2.36 0.50\"\n",
        "g1_moyenne = \"2.07 3.60 2.57 4.29 5.67 1.67 2.43 4.72 7.67 3.83 5.13 2.31 1.00 3.74 6.64 3.39 2.36 6.75 5.13 8.00 7.08 6.01 6.25 2.61 3.61 2.67 5.24 1.56 1.89 4.06 3.11 4.00 2.89\"\n",
        "g1_grande = \"7.63 5.79 7.38 8.50 5.75 4.83 5.38 7.75 7.54 8.38 7.50 6.17 5.68 7.25 7.54 5.64 6.46 7.50 8.75 9.00 7.25 7.42 6.58 8.25 7.46 7.21 7.50 8.17 6.96 8.00 6.92 5.71 7.00\"\n",
        "g2_petite = \"1.57 1.36 1.25 2.81 0.86 0.47 0.35 1.81 1.63 1.36 0.35 1.75 0.35 2.58 1.58 1.67 0.60 1.63 1.06 0.00 2.17 0.25 0.00 2.67 2.33 1.13 1.22 1.33 1.00 0.83\"\n",
        "g2_moyenne = \"2.26 3.68 6.26 3.88 6.54 5.25 6.00 6.67 4.96 2.57 1.64 5.83 6.42 6.88 4.46 1.94 5.50 1.71 3.33 2.28 5.67 5.32 1.56 2.32 4.17 6.18 4.32 6.50 3.00 2.67\"\n",
        "g2_grande = \"4.42 6.63 6.88 7.17 7.00 7.33 7.63 6.54 8.54 5.21 4.46 7.00 6.50 6.00 7.25 5.47 7.63 3.83 4.92 5.96 6.33 7.13 4.61 4.13 7.00 7.25 7.88 8.50 5.21 7.00\""
      ],
      "execution_count": 2,
      "outputs": []
    },
    {
      "cell_type": "code",
      "metadata": {
        "id": "ejIyjtA28xoI"
      },
      "source": [
        "original_data = [g1_petite, g1_moyenne, g1_grande, g2_petite, g2_moyenne, g2_grande]\n",
        "\n",
        "def process(x):\n",
        "  return list(map(float, x.split(' ')))\n",
        "data = list(map(process, original_data))"
      ],
      "execution_count": 3,
      "outputs": []
    },
    {
      "cell_type": "code",
      "metadata": {
        "colab": {
          "base_uri": "https://localhost:8080/"
        },
        "id": "f6-IFPxb9FlS",
        "outputId": "4e3a80c9-6b93-4c8c-976f-58bc8dabe0ca"
      },
      "source": [
        "group1 = np.array(data[:3]).T\n",
        "group2 = np.array(data[3:]).T\n",
        "group1.shape, group2.shape"
      ],
      "execution_count": 4,
      "outputs": [
        {
          "output_type": "execute_result",
          "data": {
            "text/plain": [
              "((33, 3), (30, 3))"
            ]
          },
          "metadata": {},
          "execution_count": 4
        }
      ]
    },
    {
      "cell_type": "code",
      "metadata": {
        "id": "OYzZUYSD-bgM"
      },
      "source": [
        "mean_g1 = group1.mean(axis=-1)\n",
        "mean_g2 = group2.mean(axis=-1)"
      ],
      "execution_count": 5,
      "outputs": []
    },
    {
      "cell_type": "code",
      "metadata": {
        "colab": {
          "base_uri": "https://localhost:8080/",
          "height": 298
        },
        "id": "5sP7ygXn-i3m",
        "outputId": "dfd76615-e0fd-4ce9-ab9c-0eb594b1ce36"
      },
      "source": [
        "plt.title(\"Histogram of mean of childrens\")\n",
        "plt.hist(mean_g1, label=\"group 1\", density=True)\n",
        "plt.hist(mean_g2, label=\"group 2\", density=True)\n",
        "plt.legend()\n",
        "plt.show()\n",
        "mean_g1.mean(), mean_g2.mean()"
      ],
      "execution_count": 6,
      "outputs": [
        {
          "output_type": "display_data",
          "data": {
            "image/png": "[encoded data removed]",
            "text/plain": [
              "<Figure size 432x288 with 1 Axes>"
            ]
          },
          "metadata": {
            "needs_background": "light"
          }
        },
        {
          "output_type": "execute_result",
          "data": {
            "text/plain": [
              "(4.125555555555556, 3.9905555555555554)"
            ]
          },
          "metadata": {},
          "execution_count": 6
        }
      ]
    },
    {
      "cell_type": "code",
      "metadata": {
        "colab": {
          "base_uri": "https://localhost:8080/",
          "height": 298
        },
        "id": "GZb4sae8AGiw",
        "outputId": "0a69f397-358d-479f-ebe4-64b0d4d274a1"
      },
      "source": [
        "year1_g1 = group1[:, 0]\n",
        "year1_g2 = group2[:, 0]\n",
        "plt.title(\"Histogram of grades of childrens for year 1\")\n",
        "plt.hist(year1_g1, label=\"group 1\", density=True)\n",
        "plt.hist(year1_g2, label=\"group 2\", density=True)\n",
        "plt.legend()\n",
        "plt.show()\n",
        "year1_g1.mean(), year1_g2.mean()"
      ],
      "execution_count": 7,
      "outputs": [
        {
          "output_type": "display_data",
          "data": {
            "image/png": "[encoded data removed]",
            "text/plain": [
              "<Figure size 432x288 with 1 Axes>"
            ]
          },
          "metadata": {
            "needs_background": "light"
          }
        },
        {
          "output_type": "execute_result",
          "data": {
            "text/plain": [
              "(1.2009090909090907, 1.2656666666666667)"
            ]
          },
          "metadata": {},
          "execution_count": 7
        }
      ]
    },
    {
      "cell_type": "code",
      "metadata": {
        "colab": {
          "base_uri": "https://localhost:8080/",
          "height": 298
        },
        "id": "oTdx-m3hAeHB",
        "outputId": "5128c78d-649f-4f02-f164-e37d30a2e535"
      },
      "source": [
        "year2_g1 = group1[:, 1]\n",
        "year2_g2 = group2[:, 1]\n",
        "plt.title(\"Histogram of grades of childrens for year 2\")\n",
        "plt.hist(year2_g1, label=\"group 1\", density=True)\n",
        "plt.hist(year2_g2, label=\"group 2\", density=True)\n",
        "plt.legend()\n",
        "plt.show()\n",
        "year2_g1.mean(), year2_g2.mean()"
      ],
      "execution_count": 8,
      "outputs": [
        {
          "output_type": "display_data",
          "data": {
            "image/png": "[encoded data removed]",
            "text/plain": [
              "<Figure size 432x288 with 1 Axes>"
            ]
          },
          "metadata": {
            "needs_background": "light"
          }
        },
        {
          "output_type": "execute_result",
          "data": {
            "text/plain": [
              "(4.059090909090909, 4.325666666666666)"
            ]
          },
          "metadata": {},
          "execution_count": 8
        }
      ]
    },
    {
      "cell_type": "code",
      "metadata": {
        "colab": {
          "base_uri": "https://localhost:8080/",
          "height": 298
        },
        "id": "Z_421ZNtAizl",
        "outputId": "9fe1e9cc-727d-4809-d6ab-1bd5cb7953f9"
      },
      "source": [
        "year3_g1 = group1[:, 2]\n",
        "year3_g2 = group2[:, 2]\n",
        "plt.title(\"Histogram of grades of childrens for year 3\")\n",
        "plt.hist(year3_g1, label=\"group 1\", density=True)\n",
        "plt.hist(year3_g2, label=\"group 2\", density=True)\n",
        "plt.legend()\n",
        "plt.show()\n",
        "year3_g1.mean(), year3_g2.mean()"
      ],
      "execution_count": 9,
      "outputs": [
        {
          "output_type": "display_data",
          "data": {
            "image/png": "[encoded data removed]",
            "text/plain": [
              "<Figure size 432x288 with 1 Axes>"
            ]
          },
          "metadata": {
            "needs_background": "light"
          }
        },
        {
          "output_type": "execute_result",
          "data": {
            "text/plain": [
              "(7.116666666666666, 6.380333333333334)"
            ]
          },
          "metadata": {},
          "execution_count": 9
        }
      ]
    },
    {
      "cell_type": "code",
      "metadata": {
        "colab": {
          "base_uri": "https://localhost:8080/"
        },
        "id": "Xz80Pk1bAnRc",
        "outputId": "9e6a8d77-7838-4be0-ec60-1971c3959831"
      },
      "source": [
        "def grade_tresh(x):\n",
        "  print(\"year1: \", (year1_g1 > x).mean(), (year1_g2 > x).mean())\n",
        "  print(\"year2: \", (year2_g1 > x).mean(), (year2_g2 > x).mean())\n",
        "  print(\"year3: \", (year3_g1 > x).mean(), (year3_g2 > x).mean())\n",
        "\n",
        "grade_tresh(6)"
      ],
      "execution_count": 10,
      "outputs": [
        {
          "output_type": "stream",
          "name": "stdout",
          "text": [
            "year1:  0.0 0.0\n",
            "year2:  0.21212121212121213 0.23333333333333334\n",
            "year3:  0.7878787878787878 0.6333333333333333\n"
          ]
        }
      ]
    },
    {
      "cell_type": "code",
      "metadata": {
        "id": "9dm3Cz-TBxDR"
      },
      "source": [
        "feet_size = \"17.5 17.5 17.5 17.5 18 18 18 18 18.5 18.5 18.5 19 19 20 20 20 20.5 20.5 20.5 20.5 21 21 21 21 21.5 21.5 21.5 22 22 22 22 23 23 23 23.5 23.5 23.5 23.5 24 24 24 24.5 24.5 24.5 24.5 25 25 25 25 25.5 25.5 26 26 26 26.5 26.5 26.5 27 27 27 27 27.5 27.5 28 28 28 28\"\n",
        "mistakes = \"15 18 19 20 16 17 18 19 14 16 17 15 16 13 14 15 12 13 14 15 10 11 13 15 10 12 13 8 10 11 12 8 9 10 7 8 9 11 6 8 9 6 7 8 10 4 6 7 8 5 6 4 5 7 3 4 5 2 3 4 7 2 3 0 1 2 4\""
      ],
      "execution_count": 11,
      "outputs": []
    },
    {
      "cell_type": "code",
      "metadata": {
        "id": "b8eVI4lSSyyp"
      },
      "source": [
        "original_data = [feet_size, mistakes]\n",
        "data = list(map(process, original_data))"
      ],
      "execution_count": 12,
      "outputs": []
    },
    {
      "cell_type": "code",
      "metadata": {
        "id": "0Ie3b_LMS3y2"
      },
      "source": [
        "data = np.array(data).T"
      ],
      "execution_count": 13,
      "outputs": []
    },
    {
      "cell_type": "code",
      "metadata": {
        "colab": {
          "base_uri": "https://localhost:8080/"
        },
        "id": "_Gyo0n8KTHWk",
        "outputId": "99b0c460-b643-476a-99c0-50962b23de07"
      },
      "source": [
        "data.shape"
      ],
      "execution_count": 14,
      "outputs": [
        {
          "output_type": "execute_result",
          "data": {
            "text/plain": [
              "(67, 2)"
            ]
          },
          "metadata": {},
          "execution_count": 14
        }
      ]
    },
    {
      "cell_type": "code",
      "metadata": {
        "colab": {
          "base_uri": "https://localhost:8080/",
          "height": 296
        },
        "id": "b6wk16TGTJTG",
        "outputId": "1bbab740-b090-4e8e-f9a9-dff48ae4abd7"
      },
      "source": [
        "plt.scatter(data[:, 0], data[:, 1])\n",
        "plt.xlabel(\"feet size\")\n",
        "plt.ylabel(\"number of mistakes\")"
      ],
      "execution_count": 15,
      "outputs": [
        {
          "output_type": "execute_result",
          "data": {
            "text/plain": [
              "Text(0, 0.5, 'number of mistakes')"
            ]
          },
          "metadata": {},
          "execution_count": 15
        },
        {
          "output_type": "display_data",
          "data": {
            "image/png": "[encoded data removed]",
            "text/plain": [
              "<Figure size 432x288 with 1 Axes>"
            ]
          },
          "metadata": {
            "needs_background": "light"
          }
        }
      ]
    },
    {
      "cell_type": "code",
      "metadata": {
        "id": "0htY3V7LTPY3"
      },
      "source": [
        "feet_size = data[:, 0]\n",
        "mistakes = data[:, 1]"
      ],
      "execution_count": 16,
      "outputs": []
    },
    {
      "cell_type": "code",
      "metadata": {
        "id": "d1w8dQ3tUHiT"
      },
      "source": [
        "def summary(x):\n",
        "  print(\"Mean\", x.mean())\n",
        "  print(\"Std\", x.std())\n",
        "  print(\"Median\", np.median(x))"
      ],
      "execution_count": 17,
      "outputs": []
    },
    {
      "cell_type": "code",
      "metadata": {
        "colab": {
          "base_uri": "https://localhost:8080/"
        },
        "id": "gmKOHZkuUhDB",
        "outputId": "a6ce24b1-3afa-4e0e-c7b8-3d7318f6e08e"
      },
      "source": [
        "print(\"Feet size\")\n",
        "summary(feet_size)\n",
        "print(\"Mistakes\")\n",
        "summary(mistakes)\n",
        "print(\"Correlation matrix\")\n",
        "np.corrcoef(feet_size, mistakes)"
      ],
      "execution_count": 18,
      "outputs": [
        {
          "output_type": "stream",
          "name": "stdout",
          "text": [
            "Feet size\n",
            "Mean 22.84328358208955\n",
            "Std 3.233694983751468\n",
            "Median 23.0\n",
            "Mistakes\n",
            "Mean 9.686567164179104\n",
            "Std 5.073221930189104\n",
            "Median 9.0\n",
            "Correlation matrix\n"
          ]
        },
        {
          "output_type": "execute_result",
          "data": {
            "text/plain": [
              "array([[ 1.        , -0.96100552],\n",
              "       [-0.96100552,  1.        ]])"
            ]
          },
          "metadata": {},
          "execution_count": 18
        }
      ]
    },
    {
      "cell_type": "code",
      "metadata": {
        "id": "WPUCom9CUkly"
      },
      "source": [
        ""
      ],
      "execution_count": 18,
      "outputs": []
    }
  ]
}